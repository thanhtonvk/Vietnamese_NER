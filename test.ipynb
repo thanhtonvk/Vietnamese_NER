{
 "cells": [
  {
   "cell_type": "code",
   "execution_count": 1,
   "metadata": {},
   "outputs": [],
   "source": [
    "from transformers import AutoTokenizer, AutoModelForTokenClassification\n",
    "from transformers import pipeline"
   ]
  },
  {
   "cell_type": "code",
   "execution_count": 2,
   "metadata": {},
   "outputs": [],
   "source": [
    "tokenizer = AutoTokenizer.from_pretrained(\"NlpHUST/ner-vietnamese-electra-base\")\n",
    "model = AutoModelForTokenClassification.from_pretrained(\"NlpHUST/ner-vietnamese-electra-base\")\n",
    "nlp = pipeline(\"ner\", model=model, tokenizer=tokenizer)"
   ]
  },
  {
   "cell_type": "code",
   "execution_count": 3,
   "metadata": {},
   "outputs": [],
   "source": [
    "f = open('text.txt','r')\n",
    "lines = f.readlines()\n",
    "f.close()"
   ]
  },
  {
   "cell_type": "code",
   "execution_count": 9,
   "metadata": {},
   "outputs": [],
   "source": [
    "def post_process(text):\n",
    "    text = text.replace(' ##','')\n",
    "    return text\n",
    "def predict(text):\n",
    "    ner_results = nlp(text)\n",
    "    ner_results = [i for i in ner_results if i['score']>0.5]\n",
    "    merged_entities = []\n",
    "    current_entity = None\n",
    "    for entity in ner_results:\n",
    "        if entity['entity'].startswith('B-'):\n",
    "            if current_entity:\n",
    "                merged_entities.append(current_entity)\n",
    "            current_entity = entity\n",
    "        elif entity['entity'].startswith('I-'):\n",
    "            if current_entity and current_entity['entity'][2:] == entity['entity'][2:]:\n",
    "                current_entity['word'] += ' ' + entity['word']\n",
    "                current_entity['end'] = entity['end']\n",
    "            else:\n",
    "                if current_entity:\n",
    "                    merged_entities.append(current_entity)\n",
    "                current_entity =entity\n",
    "        else:\n",
    "            if current_entity:\n",
    "                merged_entities.append(current_entity)\n",
    "            current_entity = None\n",
    "\n",
    "    if current_entity:\n",
    "        merged_entities.append(current_entity)\n",
    "\n",
    "    keys = ['PERSON','LOCATION']\n",
    "    results = {}\n",
    "    for key in keys:\n",
    "        results[key] = []\n",
    "    for entity in merged_entities:\n",
    "        entity_type = entity['entity'].split('-')[1]\n",
    "        if entity_type in keys:\n",
    "            results[entity_type].append(post_process(entity['word']))\n",
    "    return results"
   ]
  },
  {
   "cell_type": "code",
   "execution_count": 10,
   "metadata": {},
   "outputs": [
    {
     "name": "stdout",
     "output_type": "stream",
     "text": [
      "Chương 1. Kẻ thù một mất một còn.\n",
      "\n",
      "{'PERSON': [], 'LOCATION': []}\n",
      "-------------\n",
      "“Ngươi mới chính là tân Đế Đại Ân.”\n",
      "\n",
      "{'PERSON': [], 'LOCATION': ['Đại']}\n",
      "-------------\n",
      "…\n",
      "\n",
      "{'PERSON': [], 'LOCATION': []}\n",
      "-------------\n",
      "Đất nước sụp đổ.\n",
      "\n",
      "{'PERSON': [], 'LOCATION': []}\n",
      "-------------\n",
      "Mây đen che phủ thành Nghiệp Kinh cũng chẳng thể đè ép được chiến hỏa thiêu đốt hừng hực một đường từ biên giới tới nội cung. Mấy trăm ngàn Khải Phong binh và phản thần nội ứng ngoại hợp, suốt đêm đánh thẳng vào cung đình Nghiệp Kinh.\n",
      "\n",
      "{'PERSON': [], 'LOCATION': ['thành Nghiệp Kinh', 'Nghiệp Kinh']}\n",
      "-------------\n",
      "Đêm ấy, người kêu ngựa hí, ba ngàn cấm quân thất thủ không chỗ bại lui, nhóm cung nhân chưa kịp thu thập châu báu đã dồn dập chạy trối chết.\n",
      "\n",
      "{'PERSON': [], 'LOCATION': []}\n",
      "-------------\n",
      "Ân Đế Lâm Nghiêu cùng đường mạt lộ, bị bức ép thắt cổ tự vẫn tại Trường Minh điện.\n",
      "\n",
      "{'PERSON': ['Ân Đế Lâm Nghiêu'], 'LOCATION': ['Trường Minh điện']}\n",
      "-------------\n",
      "“Bạo Ân tất giết, Đại Khải lên ngôi!” “Bạo Ân tất giết, Đại Khải lên ngôi!”\n",
      "\n",
      "{'PERSON': ['Đại Khải', 'Đại Khải'], 'LOCATION': []}\n",
      "-------------\n",
      "Ngoài cung, trời đã sáng. Khải Phong binh chẳng hề nương thứ, gào thét ầm trời, cách một tầng đất vẫn có thể nghe thấy.\n",
      "\n",
      "{'PERSON': ['Khải Phong'], 'LOCATION': []}\n",
      "-------------\n",
      "Ân Thái tử Lâm Minh Chương vết thương chồng chất, đã không đi nổi nữa.\n",
      "\n",
      "{'PERSON': ['Ân Thái', 'Lâm Minh Chương'], 'LOCATION': []}\n",
      "-------------\n",
      " \n",
      "\n",
      "{'PERSON': [], 'LOCATION': []}\n",
      "-------------\n"
     ]
    }
   ],
   "source": [
    "for i in range(len(lines)):\n",
    "    print(lines[i])\n",
    "    print(predict(lines[i]))\n",
    "    print('-------------')\n",
    "    if i==10: break"
   ]
  }
 ],
 "metadata": {
  "kernelspec": {
   "display_name": "base",
   "language": "python",
   "name": "python3"
  },
  "language_info": {
   "codemirror_mode": {
    "name": "ipython",
    "version": 3
   },
   "file_extension": ".py",
   "mimetype": "text/x-python",
   "name": "python",
   "nbconvert_exporter": "python",
   "pygments_lexer": "ipython3",
   "version": "3.9.13"
  }
 },
 "nbformat": 4,
 "nbformat_minor": 2
}
